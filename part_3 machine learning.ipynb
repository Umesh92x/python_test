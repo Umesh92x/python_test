{
 "cells": [
  {
   "cell_type": "markdown",
   "metadata": {},
   "source": [
    "# Machine Learning model for Stock market data\n",
    "## The goal is to to predict INFY,TCS prices for tomorrow. "
   ]
  },
  {
   "cell_type": "code",
   "execution_count": 69,
   "metadata": {},
   "outputs": [],
   "source": [
    "import pandas as pd\n",
    "import numpy as np\n",
    "from pandas import datetime\n",
    "\n",
    "import seaborn as sns\n",
    "\n",
    "import matplotlib.pyplot as plt\n",
    "%matplotlib inline\n",
    "from sklearn.model_selection import train_test_split\n",
    "from sklearn.preprocessing import StandardScaler\n",
    "from sklearn.tree import DecisionTreeRegressor\n",
    "from sklearn.linear_model import LinearRegression"
   ]
  },
  {
   "cell_type": "code",
   "execution_count": 51,
   "metadata": {},
   "outputs": [
    {
     "data": {
      "text/html": [
       "<div>\n",
       "<style scoped>\n",
       "    .dataframe tbody tr th:only-of-type {\n",
       "        vertical-align: middle;\n",
       "    }\n",
       "\n",
       "    .dataframe tbody tr th {\n",
       "        vertical-align: top;\n",
       "    }\n",
       "\n",
       "    .dataframe thead th {\n",
       "        text-align: right;\n",
       "    }\n",
       "</style>\n",
       "<table border=\"1\" class=\"dataframe\">\n",
       "  <thead>\n",
       "    <tr style=\"text-align: right;\">\n",
       "      <th></th>\n",
       "      <th>Date</th>\n",
       "      <th>Symbol</th>\n",
       "      <th>Series</th>\n",
       "      <th>Prev Close</th>\n",
       "      <th>Open</th>\n",
       "      <th>High</th>\n",
       "      <th>Low</th>\n",
       "      <th>Last</th>\n",
       "      <th>Close</th>\n",
       "      <th>VWAP</th>\n",
       "      <th>Volume</th>\n",
       "      <th>Turnover</th>\n",
       "      <th>Trades</th>\n",
       "      <th>Deliverable Volume</th>\n",
       "      <th>%Deliverble</th>\n",
       "    </tr>\n",
       "  </thead>\n",
       "  <tbody>\n",
       "    <tr>\n",
       "      <th>0</th>\n",
       "      <td>2015-01-01</td>\n",
       "      <td>TCS</td>\n",
       "      <td>EQ</td>\n",
       "      <td>2558.25</td>\n",
       "      <td>2567.0</td>\n",
       "      <td>2567.00</td>\n",
       "      <td>2541.00</td>\n",
       "      <td>2550.00</td>\n",
       "      <td>2545.55</td>\n",
       "      <td>2548.51</td>\n",
       "      <td>183415</td>\n",
       "      <td>4.674345e+13</td>\n",
       "      <td>8002</td>\n",
       "      <td>52870</td>\n",
       "      <td>0.2883</td>\n",
       "    </tr>\n",
       "    <tr>\n",
       "      <th>1</th>\n",
       "      <td>2015-01-02</td>\n",
       "      <td>TCS</td>\n",
       "      <td>EQ</td>\n",
       "      <td>2545.55</td>\n",
       "      <td>2551.0</td>\n",
       "      <td>2590.95</td>\n",
       "      <td>2550.60</td>\n",
       "      <td>2588.40</td>\n",
       "      <td>2579.45</td>\n",
       "      <td>2568.19</td>\n",
       "      <td>462870</td>\n",
       "      <td>1.188740e+14</td>\n",
       "      <td>27585</td>\n",
       "      <td>309350</td>\n",
       "      <td>0.6683</td>\n",
       "    </tr>\n",
       "    <tr>\n",
       "      <th>2</th>\n",
       "      <td>2015-01-05</td>\n",
       "      <td>TCS</td>\n",
       "      <td>EQ</td>\n",
       "      <td>2579.45</td>\n",
       "      <td>2581.0</td>\n",
       "      <td>2599.90</td>\n",
       "      <td>2524.65</td>\n",
       "      <td>2538.10</td>\n",
       "      <td>2540.25</td>\n",
       "      <td>2563.94</td>\n",
       "      <td>877121</td>\n",
       "      <td>2.248886e+14</td>\n",
       "      <td>43234</td>\n",
       "      <td>456728</td>\n",
       "      <td>0.5207</td>\n",
       "    </tr>\n",
       "    <tr>\n",
       "      <th>3</th>\n",
       "      <td>2015-01-06</td>\n",
       "      <td>TCS</td>\n",
       "      <td>EQ</td>\n",
       "      <td>2540.25</td>\n",
       "      <td>2529.1</td>\n",
       "      <td>2529.10</td>\n",
       "      <td>2440.00</td>\n",
       "      <td>2450.05</td>\n",
       "      <td>2446.60</td>\n",
       "      <td>2466.90</td>\n",
       "      <td>1211892</td>\n",
       "      <td>2.989615e+14</td>\n",
       "      <td>84503</td>\n",
       "      <td>714306</td>\n",
       "      <td>0.5894</td>\n",
       "    </tr>\n",
       "    <tr>\n",
       "      <th>4</th>\n",
       "      <td>2015-01-07</td>\n",
       "      <td>TCS</td>\n",
       "      <td>EQ</td>\n",
       "      <td>2446.60</td>\n",
       "      <td>2470.0</td>\n",
       "      <td>2479.15</td>\n",
       "      <td>2407.45</td>\n",
       "      <td>2426.90</td>\n",
       "      <td>2417.70</td>\n",
       "      <td>2433.96</td>\n",
       "      <td>1318166</td>\n",
       "      <td>3.208362e+14</td>\n",
       "      <td>101741</td>\n",
       "      <td>886368</td>\n",
       "      <td>0.6724</td>\n",
       "    </tr>\n",
       "  </tbody>\n",
       "</table>\n",
       "</div>"
      ],
      "text/plain": [
       "         Date Symbol Series  Prev Close    Open     High      Low     Last  \\\n",
       "0  2015-01-01    TCS     EQ     2558.25  2567.0  2567.00  2541.00  2550.00   \n",
       "1  2015-01-02    TCS     EQ     2545.55  2551.0  2590.95  2550.60  2588.40   \n",
       "2  2015-01-05    TCS     EQ     2579.45  2581.0  2599.90  2524.65  2538.10   \n",
       "3  2015-01-06    TCS     EQ     2540.25  2529.1  2529.10  2440.00  2450.05   \n",
       "4  2015-01-07    TCS     EQ     2446.60  2470.0  2479.15  2407.45  2426.90   \n",
       "\n",
       "     Close     VWAP   Volume      Turnover  Trades  Deliverable Volume  \\\n",
       "0  2545.55  2548.51   183415  4.674345e+13    8002               52870   \n",
       "1  2579.45  2568.19   462870  1.188740e+14   27585              309350   \n",
       "2  2540.25  2563.94   877121  2.248886e+14   43234              456728   \n",
       "3  2446.60  2466.90  1211892  2.989615e+14   84503              714306   \n",
       "4  2417.70  2433.96  1318166  3.208362e+14  101741              886368   \n",
       "\n",
       "   %Deliverble  \n",
       "0       0.2883  \n",
       "1       0.6683  \n",
       "2       0.5207  \n",
       "3       0.5894  \n",
       "4       0.6724  "
      ]
     },
     "execution_count": 51,
     "metadata": {},
     "output_type": "execute_result"
    }
   ],
   "source": [
    "tcs_data = pd.read_csv('tcs_stock_data.csv')\n",
    "tcs_data.head(5)"
   ]
  },
  {
   "cell_type": "code",
   "execution_count": 48,
   "metadata": {},
   "outputs": [
    {
     "data": {
      "text/html": [
       "<div>\n",
       "<style scoped>\n",
       "    .dataframe tbody tr th:only-of-type {\n",
       "        vertical-align: middle;\n",
       "    }\n",
       "\n",
       "    .dataframe tbody tr th {\n",
       "        vertical-align: top;\n",
       "    }\n",
       "\n",
       "    .dataframe thead th {\n",
       "        text-align: right;\n",
       "    }\n",
       "</style>\n",
       "<table border=\"1\" class=\"dataframe\">\n",
       "  <thead>\n",
       "    <tr style=\"text-align: right;\">\n",
       "      <th></th>\n",
       "      <th>Date</th>\n",
       "      <th>Symbol</th>\n",
       "      <th>Series</th>\n",
       "      <th>Prev Close</th>\n",
       "      <th>Open</th>\n",
       "      <th>High</th>\n",
       "      <th>Low</th>\n",
       "      <th>Last</th>\n",
       "      <th>Close</th>\n",
       "      <th>VWAP</th>\n",
       "      <th>Volume</th>\n",
       "      <th>Turnover</th>\n",
       "      <th>Trades</th>\n",
       "      <th>Deliverable Volume</th>\n",
       "      <th>%Deliverble</th>\n",
       "    </tr>\n",
       "  </thead>\n",
       "  <tbody>\n",
       "    <tr>\n",
       "      <th>0</th>\n",
       "      <td>2015-01-01</td>\n",
       "      <td>TCS</td>\n",
       "      <td>EQ</td>\n",
       "      <td>2558.25</td>\n",
       "      <td>2567.0</td>\n",
       "      <td>2567.00</td>\n",
       "      <td>2541.00</td>\n",
       "      <td>2550.00</td>\n",
       "      <td>2545.55</td>\n",
       "      <td>2548.51</td>\n",
       "      <td>183415</td>\n",
       "      <td>4.674345e+13</td>\n",
       "      <td>8002</td>\n",
       "      <td>52870</td>\n",
       "      <td>0.2883</td>\n",
       "    </tr>\n",
       "    <tr>\n",
       "      <th>1</th>\n",
       "      <td>2015-01-02</td>\n",
       "      <td>TCS</td>\n",
       "      <td>EQ</td>\n",
       "      <td>2545.55</td>\n",
       "      <td>2551.0</td>\n",
       "      <td>2590.95</td>\n",
       "      <td>2550.60</td>\n",
       "      <td>2588.40</td>\n",
       "      <td>2579.45</td>\n",
       "      <td>2568.19</td>\n",
       "      <td>462870</td>\n",
       "      <td>1.188740e+14</td>\n",
       "      <td>27585</td>\n",
       "      <td>309350</td>\n",
       "      <td>0.6683</td>\n",
       "    </tr>\n",
       "    <tr>\n",
       "      <th>2</th>\n",
       "      <td>2015-01-05</td>\n",
       "      <td>TCS</td>\n",
       "      <td>EQ</td>\n",
       "      <td>2579.45</td>\n",
       "      <td>2581.0</td>\n",
       "      <td>2599.90</td>\n",
       "      <td>2524.65</td>\n",
       "      <td>2538.10</td>\n",
       "      <td>2540.25</td>\n",
       "      <td>2563.94</td>\n",
       "      <td>877121</td>\n",
       "      <td>2.248886e+14</td>\n",
       "      <td>43234</td>\n",
       "      <td>456728</td>\n",
       "      <td>0.5207</td>\n",
       "    </tr>\n",
       "    <tr>\n",
       "      <th>3</th>\n",
       "      <td>2015-01-06</td>\n",
       "      <td>TCS</td>\n",
       "      <td>EQ</td>\n",
       "      <td>2540.25</td>\n",
       "      <td>2529.1</td>\n",
       "      <td>2529.10</td>\n",
       "      <td>2440.00</td>\n",
       "      <td>2450.05</td>\n",
       "      <td>2446.60</td>\n",
       "      <td>2466.90</td>\n",
       "      <td>1211892</td>\n",
       "      <td>2.989615e+14</td>\n",
       "      <td>84503</td>\n",
       "      <td>714306</td>\n",
       "      <td>0.5894</td>\n",
       "    </tr>\n",
       "    <tr>\n",
       "      <th>4</th>\n",
       "      <td>2015-01-07</td>\n",
       "      <td>TCS</td>\n",
       "      <td>EQ</td>\n",
       "      <td>2446.60</td>\n",
       "      <td>2470.0</td>\n",
       "      <td>2479.15</td>\n",
       "      <td>2407.45</td>\n",
       "      <td>2426.90</td>\n",
       "      <td>2417.70</td>\n",
       "      <td>2433.96</td>\n",
       "      <td>1318166</td>\n",
       "      <td>3.208362e+14</td>\n",
       "      <td>101741</td>\n",
       "      <td>886368</td>\n",
       "      <td>0.6724</td>\n",
       "    </tr>\n",
       "  </tbody>\n",
       "</table>\n",
       "</div>"
      ],
      "text/plain": [
       "         Date Symbol Series  Prev Close    Open     High      Low     Last  \\\n",
       "0  2015-01-01    TCS     EQ     2558.25  2567.0  2567.00  2541.00  2550.00   \n",
       "1  2015-01-02    TCS     EQ     2545.55  2551.0  2590.95  2550.60  2588.40   \n",
       "2  2015-01-05    TCS     EQ     2579.45  2581.0  2599.90  2524.65  2538.10   \n",
       "3  2015-01-06    TCS     EQ     2540.25  2529.1  2529.10  2440.00  2450.05   \n",
       "4  2015-01-07    TCS     EQ     2446.60  2470.0  2479.15  2407.45  2426.90   \n",
       "\n",
       "     Close     VWAP   Volume      Turnover  Trades  Deliverable Volume  \\\n",
       "0  2545.55  2548.51   183415  4.674345e+13    8002               52870   \n",
       "1  2579.45  2568.19   462870  1.188740e+14   27585              309350   \n",
       "2  2540.25  2563.94   877121  2.248886e+14   43234              456728   \n",
       "3  2446.60  2466.90  1211892  2.989615e+14   84503              714306   \n",
       "4  2417.70  2433.96  1318166  3.208362e+14  101741              886368   \n",
       "\n",
       "   %Deliverble  \n",
       "0       0.2883  \n",
       "1       0.6683  \n",
       "2       0.5207  \n",
       "3       0.5894  \n",
       "4       0.6724  "
      ]
     },
     "execution_count": 48,
     "metadata": {},
     "output_type": "execute_result"
    }
   ],
   "source": [
    "tcs_data.set_index('Date')\n",
    "tcs_data.head(5)"
   ]
  },
  {
   "cell_type": "code",
   "execution_count": null,
   "metadata": {},
   "outputs": [],
   "source": []
  },
  {
   "cell_type": "code",
   "execution_count": 11,
   "metadata": {},
   "outputs": [
    {
     "data": {
      "text/html": [
       "<div>\n",
       "<style scoped>\n",
       "    .dataframe tbody tr th:only-of-type {\n",
       "        vertical-align: middle;\n",
       "    }\n",
       "\n",
       "    .dataframe tbody tr th {\n",
       "        vertical-align: top;\n",
       "    }\n",
       "\n",
       "    .dataframe thead th {\n",
       "        text-align: right;\n",
       "    }\n",
       "</style>\n",
       "<table border=\"1\" class=\"dataframe\">\n",
       "  <thead>\n",
       "    <tr style=\"text-align: right;\">\n",
       "      <th></th>\n",
       "      <th>Date</th>\n",
       "      <th>Symbol</th>\n",
       "      <th>Series</th>\n",
       "      <th>Prev Close</th>\n",
       "      <th>Open</th>\n",
       "      <th>High</th>\n",
       "      <th>Low</th>\n",
       "      <th>Last</th>\n",
       "      <th>Close</th>\n",
       "      <th>VWAP</th>\n",
       "      <th>Volume</th>\n",
       "      <th>Turnover</th>\n",
       "      <th>Trades</th>\n",
       "      <th>Deliverable Volume</th>\n",
       "      <th>%Deliverble</th>\n",
       "    </tr>\n",
       "  </thead>\n",
       "  <tbody>\n",
       "    <tr>\n",
       "      <th>0</th>\n",
       "      <td>2015-01-01</td>\n",
       "      <td>TCS</td>\n",
       "      <td>EQ</td>\n",
       "      <td>2558.25</td>\n",
       "      <td>2567.0</td>\n",
       "      <td>2567.00</td>\n",
       "      <td>2541.00</td>\n",
       "      <td>2550.00</td>\n",
       "      <td>2545.55</td>\n",
       "      <td>2548.51</td>\n",
       "      <td>183415</td>\n",
       "      <td>4.674345e+13</td>\n",
       "      <td>8002</td>\n",
       "      <td>52870</td>\n",
       "      <td>0.2883</td>\n",
       "    </tr>\n",
       "    <tr>\n",
       "      <th>1</th>\n",
       "      <td>2015-01-02</td>\n",
       "      <td>TCS</td>\n",
       "      <td>EQ</td>\n",
       "      <td>2545.55</td>\n",
       "      <td>2551.0</td>\n",
       "      <td>2590.95</td>\n",
       "      <td>2550.60</td>\n",
       "      <td>2588.40</td>\n",
       "      <td>2579.45</td>\n",
       "      <td>2568.19</td>\n",
       "      <td>462870</td>\n",
       "      <td>1.188740e+14</td>\n",
       "      <td>27585</td>\n",
       "      <td>309350</td>\n",
       "      <td>0.6683</td>\n",
       "    </tr>\n",
       "    <tr>\n",
       "      <th>2</th>\n",
       "      <td>2015-01-03</td>\n",
       "      <td>TCS</td>\n",
       "      <td>EQ</td>\n",
       "      <td>2545.55</td>\n",
       "      <td>2551.0</td>\n",
       "      <td>2590.95</td>\n",
       "      <td>2550.60</td>\n",
       "      <td>2588.40</td>\n",
       "      <td>2579.45</td>\n",
       "      <td>2568.19</td>\n",
       "      <td>462870</td>\n",
       "      <td>1.188740e+14</td>\n",
       "      <td>27585</td>\n",
       "      <td>309350</td>\n",
       "      <td>0.6683</td>\n",
       "    </tr>\n",
       "    <tr>\n",
       "      <th>3</th>\n",
       "      <td>2015-01-04</td>\n",
       "      <td>TCS</td>\n",
       "      <td>EQ</td>\n",
       "      <td>2545.55</td>\n",
       "      <td>2551.0</td>\n",
       "      <td>2590.95</td>\n",
       "      <td>2550.60</td>\n",
       "      <td>2588.40</td>\n",
       "      <td>2579.45</td>\n",
       "      <td>2568.19</td>\n",
       "      <td>462870</td>\n",
       "      <td>1.188740e+14</td>\n",
       "      <td>27585</td>\n",
       "      <td>309350</td>\n",
       "      <td>0.6683</td>\n",
       "    </tr>\n",
       "    <tr>\n",
       "      <th>4</th>\n",
       "      <td>2015-01-05</td>\n",
       "      <td>TCS</td>\n",
       "      <td>EQ</td>\n",
       "      <td>2579.45</td>\n",
       "      <td>2581.0</td>\n",
       "      <td>2599.90</td>\n",
       "      <td>2524.65</td>\n",
       "      <td>2538.10</td>\n",
       "      <td>2540.25</td>\n",
       "      <td>2563.94</td>\n",
       "      <td>877121</td>\n",
       "      <td>2.248886e+14</td>\n",
       "      <td>43234</td>\n",
       "      <td>456728</td>\n",
       "      <td>0.5207</td>\n",
       "    </tr>\n",
       "    <tr>\n",
       "      <th>5</th>\n",
       "      <td>2015-01-06</td>\n",
       "      <td>TCS</td>\n",
       "      <td>EQ</td>\n",
       "      <td>2540.25</td>\n",
       "      <td>2529.1</td>\n",
       "      <td>2529.10</td>\n",
       "      <td>2440.00</td>\n",
       "      <td>2450.05</td>\n",
       "      <td>2446.60</td>\n",
       "      <td>2466.90</td>\n",
       "      <td>1211892</td>\n",
       "      <td>2.989615e+14</td>\n",
       "      <td>84503</td>\n",
       "      <td>714306</td>\n",
       "      <td>0.5894</td>\n",
       "    </tr>\n",
       "    <tr>\n",
       "      <th>6</th>\n",
       "      <td>2015-01-07</td>\n",
       "      <td>TCS</td>\n",
       "      <td>EQ</td>\n",
       "      <td>2446.60</td>\n",
       "      <td>2470.0</td>\n",
       "      <td>2479.15</td>\n",
       "      <td>2407.45</td>\n",
       "      <td>2426.90</td>\n",
       "      <td>2417.70</td>\n",
       "      <td>2433.96</td>\n",
       "      <td>1318166</td>\n",
       "      <td>3.208362e+14</td>\n",
       "      <td>101741</td>\n",
       "      <td>886368</td>\n",
       "      <td>0.6724</td>\n",
       "    </tr>\n",
       "    <tr>\n",
       "      <th>7</th>\n",
       "      <td>2015-01-08</td>\n",
       "      <td>TCS</td>\n",
       "      <td>EQ</td>\n",
       "      <td>2417.70</td>\n",
       "      <td>2442.4</td>\n",
       "      <td>2449.00</td>\n",
       "      <td>2420.55</td>\n",
       "      <td>2446.00</td>\n",
       "      <td>2443.80</td>\n",
       "      <td>2434.81</td>\n",
       "      <td>782704</td>\n",
       "      <td>1.905739e+14</td>\n",
       "      <td>47699</td>\n",
       "      <td>450768</td>\n",
       "      <td>0.5759</td>\n",
       "    </tr>\n",
       "    <tr>\n",
       "      <th>8</th>\n",
       "      <td>2015-01-09</td>\n",
       "      <td>TCS</td>\n",
       "      <td>EQ</td>\n",
       "      <td>2443.80</td>\n",
       "      <td>2455.0</td>\n",
       "      <td>2519.90</td>\n",
       "      <td>2450.00</td>\n",
       "      <td>2510.00</td>\n",
       "      <td>2512.30</td>\n",
       "      <td>2490.01</td>\n",
       "      <td>1598821</td>\n",
       "      <td>3.981082e+14</td>\n",
       "      <td>81743</td>\n",
       "      <td>865777</td>\n",
       "      <td>0.5415</td>\n",
       "    </tr>\n",
       "    <tr>\n",
       "      <th>9</th>\n",
       "      <td>2015-01-10</td>\n",
       "      <td>TCS</td>\n",
       "      <td>EQ</td>\n",
       "      <td>2443.80</td>\n",
       "      <td>2455.0</td>\n",
       "      <td>2519.90</td>\n",
       "      <td>2450.00</td>\n",
       "      <td>2510.00</td>\n",
       "      <td>2512.30</td>\n",
       "      <td>2490.01</td>\n",
       "      <td>1598821</td>\n",
       "      <td>3.981082e+14</td>\n",
       "      <td>81743</td>\n",
       "      <td>865777</td>\n",
       "      <td>0.5415</td>\n",
       "    </tr>\n",
       "  </tbody>\n",
       "</table>\n",
       "</div>"
      ],
      "text/plain": [
       "        Date Symbol Series  Prev Close    Open     High      Low     Last  \\\n",
       "0 2015-01-01    TCS     EQ     2558.25  2567.0  2567.00  2541.00  2550.00   \n",
       "1 2015-01-02    TCS     EQ     2545.55  2551.0  2590.95  2550.60  2588.40   \n",
       "2 2015-01-03    TCS     EQ     2545.55  2551.0  2590.95  2550.60  2588.40   \n",
       "3 2015-01-04    TCS     EQ     2545.55  2551.0  2590.95  2550.60  2588.40   \n",
       "4 2015-01-05    TCS     EQ     2579.45  2581.0  2599.90  2524.65  2538.10   \n",
       "5 2015-01-06    TCS     EQ     2540.25  2529.1  2529.10  2440.00  2450.05   \n",
       "6 2015-01-07    TCS     EQ     2446.60  2470.0  2479.15  2407.45  2426.90   \n",
       "7 2015-01-08    TCS     EQ     2417.70  2442.4  2449.00  2420.55  2446.00   \n",
       "8 2015-01-09    TCS     EQ     2443.80  2455.0  2519.90  2450.00  2510.00   \n",
       "9 2015-01-10    TCS     EQ     2443.80  2455.0  2519.90  2450.00  2510.00   \n",
       "\n",
       "     Close     VWAP   Volume      Turnover  Trades  Deliverable Volume  \\\n",
       "0  2545.55  2548.51   183415  4.674345e+13    8002               52870   \n",
       "1  2579.45  2568.19   462870  1.188740e+14   27585              309350   \n",
       "2  2579.45  2568.19   462870  1.188740e+14   27585              309350   \n",
       "3  2579.45  2568.19   462870  1.188740e+14   27585              309350   \n",
       "4  2540.25  2563.94   877121  2.248886e+14   43234              456728   \n",
       "5  2446.60  2466.90  1211892  2.989615e+14   84503              714306   \n",
       "6  2417.70  2433.96  1318166  3.208362e+14  101741              886368   \n",
       "7  2443.80  2434.81   782704  1.905739e+14   47699              450768   \n",
       "8  2512.30  2490.01  1598821  3.981082e+14   81743              865777   \n",
       "9  2512.30  2490.01  1598821  3.981082e+14   81743              865777   \n",
       "\n",
       "   %Deliverble  \n",
       "0       0.2883  \n",
       "1       0.6683  \n",
       "2       0.6683  \n",
       "3       0.6683  \n",
       "4       0.5207  \n",
       "5       0.5894  \n",
       "6       0.6724  \n",
       "7       0.5759  \n",
       "8       0.5415  \n",
       "9       0.5415  "
      ]
     },
     "execution_count": 11,
     "metadata": {},
     "output_type": "execute_result"
    }
   ],
   "source": [
    "tcs_data.head(10)"
   ]
  },
  {
   "cell_type": "code",
   "execution_count": 96,
   "metadata": {},
   "outputs": [],
   "source": [
    "X_tcs = tcs_data.loc[:,'Prev Close':'%Deliverble']\n",
    "X_tcs = X_tcs.drop('Open',axis =1)\n",
    "X_tcs = X_tcs.values"
   ]
  },
  {
   "cell_type": "code",
   "execution_count": 107,
   "metadata": {},
   "outputs": [],
   "source": [
    "X_tcs=X_tcs.astype('int')"
   ]
  },
  {
   "cell_type": "code",
   "execution_count": 108,
   "metadata": {},
   "outputs": [
    {
     "data": {
      "text/plain": [
       "array([2567, 2551, 2581, 2529, 2470, 2442, 2455, 2517, 2520, 2516, 2533,\n",
       "       2543, 2536, 2520, 2522, 2516, 2514, 2512, 2503, 2538, 2560, 2482,\n",
       "       2511, 2568, 2520, 2553, 2561, 2510, 2455, 2479, 2470, 2560, 2585,\n",
       "       2636, 2698, 2671, 2694, 2710, 2679, 2659, 2677, 2679, 2682, 2788,\n",
       "       2750, 2640, 2648, 2642, 2623, 2638, 2585, 2582, 2590, 2576, 2596,\n",
       "       2616, 2630, 2591, 2553, 2531, 2525, 2569, 2558, 2558, 2562, 2594,\n",
       "       2659, 2648, 2664, 2654, 2626, 2557, 2480, 2428, 2431, 2472, 2455,\n",
       "       2499, 2510, 2484, 2480, 2491, 2501, 2515, 2464, 2560, 2535, 2560,\n",
       "       2547, 2520, 2515, 2514, 2519, 2520, 2557, 2550, 2620, 2605, 2608,\n",
       "       2603, 2617, 2609, 2616, 2604, 2617, 2592, 2590, 2585, 2566, 2605,\n",
       "       2571, 2505, 2500, 2521, 2515, 2535, 2547, 2600, 2580, 2562, 2550,\n",
       "       2572, 2585, 2563, 2600, 2573, 2580, 2632, 2597, 2595, 2559, 2475,\n",
       "       2511, 2501, 2543, 2546, 2564, 2576, 2561, 2517, 2497, 2488, 2499,\n",
       "       2511, 2516, 2489, 2503, 2510, 2520, 2565, 2573, 2572, 2578, 2603,\n",
       "       2670, 2638, 2690, 2706, 2750, 2745, 2712, 2639, 2587, 2558, 2614,\n",
       "       2609, 2590, 2556, 2559, 2596, 2611, 2553, 2545, 2562, 2542, 2546,\n",
       "       2565, 2551, 2555, 2565, 2550, 2557, 2534, 2535, 2594, 2583, 2643,\n",
       "       2599, 2652, 2725, 2693, 2670, 2650, 2655, 2602, 2548, 2490, 2480,\n",
       "       2490, 2496, 2535, 2548, 2549, 2530, 2510, 2533, 2500, 2500, 2528,\n",
       "       2545, 2530, 2492, 2495, 2472, 2475, 2438, 2390, 2380, 2388, 2365,\n",
       "       2366, 2405, 2380, 2377, 2348, 2365, 2362, 2378, 2360, 2340, 2332,\n",
       "       2319, 2337, 2369, 2383, 2335, 2378, 2384, 2415, 2420, 2419, 2440,\n",
       "       2415, 2421, 2428, 2458, 2453, 2415])"
      ]
     },
     "execution_count": 108,
     "metadata": {},
     "output_type": "execute_result"
    }
   ],
   "source": [
    "Y_tcs = tcs_data['Open'].values\n",
    "Y_tcs = Y_tcs.astype('int')\n",
    "Y_tcs"
   ]
  },
  {
   "cell_type": "code",
   "execution_count": 109,
   "metadata": {},
   "outputs": [],
   "source": [
    "random.seed(1)"
   ]
  },
  {
   "cell_type": "code",
   "execution_count": 110,
   "metadata": {},
   "outputs": [],
   "source": [
    "X_train,X_test,y_train,y_test = train_test_split(X_tcs,Y_tcs,test_size = 0.25,random_state = 0)"
   ]
  },
  {
   "cell_type": "code",
   "execution_count": 111,
   "metadata": {},
   "outputs": [
    {
     "name": "stderr",
     "output_type": "stream",
     "text": [
      "C:\\Users\\hp\\Anaconda3\\lib\\site-packages\\sklearn\\utils\\validation.py:595: DataConversionWarning: Data with input dtype int32 was converted to float64 by StandardScaler.\n",
      "  warnings.warn(msg, DataConversionWarning)\n",
      "C:\\Users\\hp\\Anaconda3\\lib\\site-packages\\sklearn\\utils\\validation.py:595: DataConversionWarning: Data with input dtype int32 was converted to float64 by StandardScaler.\n",
      "  warnings.warn(msg, DataConversionWarning)\n",
      "C:\\Users\\hp\\Anaconda3\\lib\\site-packages\\sklearn\\utils\\validation.py:595: DataConversionWarning: Data with input dtype int32 was converted to float64 by StandardScaler.\n",
      "  warnings.warn(msg, DataConversionWarning)\n"
     ]
    }
   ],
   "source": [
    "scaler = StandardScaler()\n",
    "X_train = scaler.fit_transform(X_train)\n",
    "X_test=scaler.transform(X_test)"
   ]
  },
  {
   "cell_type": "code",
   "execution_count": 112,
   "metadata": {},
   "outputs": [],
   "source": [
    "import random\n",
    "random.seed(1)\n",
    "from sklearn.svm import SVC\n",
    "classifier=SVC(kernel = 'rbf',random_state = 0)\n"
   ]
  },
  {
   "cell_type": "code",
   "execution_count": 113,
   "metadata": {},
   "outputs": [
    {
     "name": "stderr",
     "output_type": "stream",
     "text": [
      "C:\\Users\\hp\\Anaconda3\\lib\\site-packages\\sklearn\\svm\\base.py:196: FutureWarning: The default value of gamma will change from 'auto' to 'scale' in version 0.22 to account better for unscaled features. Set gamma explicitly to 'auto' or 'scale' to avoid this warning.\n",
      "  \"avoid this warning.\", FutureWarning)\n"
     ]
    },
    {
     "data": {
      "text/plain": [
       "SVC(C=1.0, cache_size=200, class_weight=None, coef0=0.0,\n",
       "  decision_function_shape='ovr', degree=3, gamma='auto_deprecated',\n",
       "  kernel='rbf', max_iter=-1, probability=False, random_state=0,\n",
       "  shrinking=True, tol=0.001, verbose=False)"
      ]
     },
     "execution_count": 113,
     "metadata": {},
     "output_type": "execute_result"
    }
   ],
   "source": [
    "classifier.fit(X_train,y_train)"
   ]
  },
  {
   "cell_type": "code",
   "execution_count": 114,
   "metadata": {},
   "outputs": [],
   "source": [
    "y_pred = classifier.predict(X_test)\n"
   ]
  },
  {
   "cell_type": "code",
   "execution_count": 115,
   "metadata": {},
   "outputs": [
    {
     "data": {
      "text/plain": [
       "39.42080668885405"
      ]
     },
     "execution_count": 115,
     "metadata": {},
     "output_type": "execute_result"
    }
   ],
   "source": [
    "from sklearn.metrics import mean_squared_error\n",
    "from math import sqrt\n",
    "rms = sqrt(mean_squared_error(y_test, y_pred))\n",
    "rms"
   ]
  },
  {
   "cell_type": "markdown",
   "metadata": {},
   "source": [
    "### let use one more model"
   ]
  },
  {
   "cell_type": "code",
   "execution_count": 118,
   "metadata": {},
   "outputs": [
    {
     "data": {
      "text/plain": [
       "DecisionTreeRegressor(criterion='mse', max_depth=None, max_features=None,\n",
       "           max_leaf_nodes=None, min_impurity_decrease=0.0,\n",
       "           min_impurity_split=None, min_samples_leaf=1,\n",
       "           min_samples_split=2, min_weight_fraction_leaf=0.0,\n",
       "           presort=False, random_state=42, splitter='best')"
      ]
     },
     "execution_count": 118,
     "metadata": {},
     "output_type": "execute_result"
    }
   ],
   "source": [
    "classifier = DecisionTreeRegressor(random_state = 42)\n",
    "classifier.fit(X_train,y_train)\n"
   ]
  },
  {
   "cell_type": "code",
   "execution_count": 119,
   "metadata": {},
   "outputs": [],
   "source": [
    "y_pred = classifier.predict(X_test)"
   ]
  },
  {
   "cell_type": "code",
   "execution_count": 120,
   "metadata": {},
   "outputs": [
    {
     "data": {
      "text/plain": [
       "19.66124401275342"
      ]
     },
     "execution_count": 120,
     "metadata": {},
     "output_type": "execute_result"
    }
   ],
   "source": [
    "from sklearn.metrics import mean_squared_error\n",
    "from math import sqrt\n",
    "rms = sqrt(mean_squared_error(y_test, y_pred))\n",
    "rms"
   ]
  },
  {
   "cell_type": "code",
   "execution_count": null,
   "metadata": {},
   "outputs": [],
   "source": []
  },
  {
   "cell_type": "markdown",
   "metadata": {},
   "source": [
    "### Not bad.Decision tree always good !!"
   ]
  },
  {
   "cell_type": "code",
   "execution_count": null,
   "metadata": {},
   "outputs": [],
   "source": []
  },
  {
   "cell_type": "markdown",
   "metadata": {},
   "source": [
    "### same for infy"
   ]
  },
  {
   "cell_type": "code",
   "execution_count": 121,
   "metadata": {},
   "outputs": [],
   "source": [
    "infy_data = pd.read_csv('infy_stock.csv')"
   ]
  },
  {
   "cell_type": "code",
   "execution_count": 124,
   "metadata": {},
   "outputs": [],
   "source": [
    "infy_data['Date']=pd.to_datetime(infy_data['Date'])\n",
    "infy_data.set_index('Date',inplace = True)\n",
    "\n",
    "infy_data=infy_data.resample('D').ffill().reset_index()"
   ]
  },
  {
   "cell_type": "code",
   "execution_count": 125,
   "metadata": {},
   "outputs": [
    {
     "data": {
      "text/html": [
       "<div>\n",
       "<style scoped>\n",
       "    .dataframe tbody tr th:only-of-type {\n",
       "        vertical-align: middle;\n",
       "    }\n",
       "\n",
       "    .dataframe tbody tr th {\n",
       "        vertical-align: top;\n",
       "    }\n",
       "\n",
       "    .dataframe thead th {\n",
       "        text-align: right;\n",
       "    }\n",
       "</style>\n",
       "<table border=\"1\" class=\"dataframe\">\n",
       "  <thead>\n",
       "    <tr style=\"text-align: right;\">\n",
       "      <th></th>\n",
       "      <th>Date</th>\n",
       "      <th>Symbol</th>\n",
       "      <th>Series</th>\n",
       "      <th>Prev Close</th>\n",
       "      <th>Open</th>\n",
       "      <th>High</th>\n",
       "      <th>Low</th>\n",
       "      <th>Last</th>\n",
       "      <th>Close</th>\n",
       "      <th>VWAP</th>\n",
       "      <th>Volume</th>\n",
       "      <th>Turnover</th>\n",
       "      <th>Trades</th>\n",
       "      <th>Deliverable Volume</th>\n",
       "      <th>%Deliverble</th>\n",
       "    </tr>\n",
       "  </thead>\n",
       "  <tbody>\n",
       "    <tr>\n",
       "      <th>0</th>\n",
       "      <td>2015-01-01</td>\n",
       "      <td>INFY</td>\n",
       "      <td>EQ</td>\n",
       "      <td>1972.55</td>\n",
       "      <td>1968.95</td>\n",
       "      <td>1982.00</td>\n",
       "      <td>1956.90</td>\n",
       "      <td>1971.00</td>\n",
       "      <td>1974.40</td>\n",
       "      <td>1971.34</td>\n",
       "      <td>500691</td>\n",
       "      <td>9.870306e+13</td>\n",
       "      <td>14908</td>\n",
       "      <td>258080</td>\n",
       "      <td>0.5154</td>\n",
       "    </tr>\n",
       "    <tr>\n",
       "      <th>1</th>\n",
       "      <td>2015-01-02</td>\n",
       "      <td>INFY</td>\n",
       "      <td>EQ</td>\n",
       "      <td>1974.40</td>\n",
       "      <td>1972.00</td>\n",
       "      <td>2019.05</td>\n",
       "      <td>1972.00</td>\n",
       "      <td>2017.95</td>\n",
       "      <td>2013.20</td>\n",
       "      <td>2003.25</td>\n",
       "      <td>1694580</td>\n",
       "      <td>3.394669e+14</td>\n",
       "      <td>54166</td>\n",
       "      <td>1249104</td>\n",
       "      <td>0.7371</td>\n",
       "    </tr>\n",
       "    <tr>\n",
       "      <th>2</th>\n",
       "      <td>2015-01-03</td>\n",
       "      <td>INFY</td>\n",
       "      <td>EQ</td>\n",
       "      <td>1974.40</td>\n",
       "      <td>1972.00</td>\n",
       "      <td>2019.05</td>\n",
       "      <td>1972.00</td>\n",
       "      <td>2017.95</td>\n",
       "      <td>2013.20</td>\n",
       "      <td>2003.25</td>\n",
       "      <td>1694580</td>\n",
       "      <td>3.394669e+14</td>\n",
       "      <td>54166</td>\n",
       "      <td>1249104</td>\n",
       "      <td>0.7371</td>\n",
       "    </tr>\n",
       "    <tr>\n",
       "      <th>3</th>\n",
       "      <td>2015-01-04</td>\n",
       "      <td>INFY</td>\n",
       "      <td>EQ</td>\n",
       "      <td>1974.40</td>\n",
       "      <td>1972.00</td>\n",
       "      <td>2019.05</td>\n",
       "      <td>1972.00</td>\n",
       "      <td>2017.95</td>\n",
       "      <td>2013.20</td>\n",
       "      <td>2003.25</td>\n",
       "      <td>1694580</td>\n",
       "      <td>3.394669e+14</td>\n",
       "      <td>54166</td>\n",
       "      <td>1249104</td>\n",
       "      <td>0.7371</td>\n",
       "    </tr>\n",
       "    <tr>\n",
       "      <th>4</th>\n",
       "      <td>2015-01-05</td>\n",
       "      <td>INFY</td>\n",
       "      <td>EQ</td>\n",
       "      <td>2013.20</td>\n",
       "      <td>2009.90</td>\n",
       "      <td>2030.00</td>\n",
       "      <td>1977.50</td>\n",
       "      <td>1996.00</td>\n",
       "      <td>1995.90</td>\n",
       "      <td>2004.59</td>\n",
       "      <td>2484256</td>\n",
       "      <td>4.979911e+14</td>\n",
       "      <td>82694</td>\n",
       "      <td>1830962</td>\n",
       "      <td>0.7370</td>\n",
       "    </tr>\n",
       "    <tr>\n",
       "      <th>5</th>\n",
       "      <td>2015-01-06</td>\n",
       "      <td>INFY</td>\n",
       "      <td>EQ</td>\n",
       "      <td>1995.90</td>\n",
       "      <td>1980.00</td>\n",
       "      <td>1985.00</td>\n",
       "      <td>1934.10</td>\n",
       "      <td>1965.10</td>\n",
       "      <td>1954.20</td>\n",
       "      <td>1954.82</td>\n",
       "      <td>2416829</td>\n",
       "      <td>4.724458e+14</td>\n",
       "      <td>108209</td>\n",
       "      <td>1772070</td>\n",
       "      <td>0.7332</td>\n",
       "    </tr>\n",
       "    <tr>\n",
       "      <th>6</th>\n",
       "      <td>2015-01-07</td>\n",
       "      <td>INFY</td>\n",
       "      <td>EQ</td>\n",
       "      <td>1954.20</td>\n",
       "      <td>1965.00</td>\n",
       "      <td>1974.75</td>\n",
       "      <td>1950.00</td>\n",
       "      <td>1966.05</td>\n",
       "      <td>1963.55</td>\n",
       "      <td>1962.59</td>\n",
       "      <td>1812479</td>\n",
       "      <td>3.557162e+14</td>\n",
       "      <td>62463</td>\n",
       "      <td>1317720</td>\n",
       "      <td>0.7270</td>\n",
       "    </tr>\n",
       "    <tr>\n",
       "      <th>7</th>\n",
       "      <td>2015-01-08</td>\n",
       "      <td>INFY</td>\n",
       "      <td>EQ</td>\n",
       "      <td>1963.55</td>\n",
       "      <td>1985.60</td>\n",
       "      <td>1997.00</td>\n",
       "      <td>1950.00</td>\n",
       "      <td>1979.25</td>\n",
       "      <td>1973.45</td>\n",
       "      <td>1972.78</td>\n",
       "      <td>3391230</td>\n",
       "      <td>6.690160e+14</td>\n",
       "      <td>92752</td>\n",
       "      <td>2686012</td>\n",
       "      <td>0.7920</td>\n",
       "    </tr>\n",
       "    <tr>\n",
       "      <th>8</th>\n",
       "      <td>2015-01-09</td>\n",
       "      <td>INFY</td>\n",
       "      <td>EQ</td>\n",
       "      <td>1973.45</td>\n",
       "      <td>1980.10</td>\n",
       "      <td>2109.00</td>\n",
       "      <td>1913.05</td>\n",
       "      <td>2075.30</td>\n",
       "      <td>2074.45</td>\n",
       "      <td>2037.69</td>\n",
       "      <td>11215832</td>\n",
       "      <td>2.285439e+15</td>\n",
       "      <td>359214</td>\n",
       "      <td>3369489</td>\n",
       "      <td>0.3004</td>\n",
       "    </tr>\n",
       "    <tr>\n",
       "      <th>9</th>\n",
       "      <td>2015-01-10</td>\n",
       "      <td>INFY</td>\n",
       "      <td>EQ</td>\n",
       "      <td>1973.45</td>\n",
       "      <td>1980.10</td>\n",
       "      <td>2109.00</td>\n",
       "      <td>1913.05</td>\n",
       "      <td>2075.30</td>\n",
       "      <td>2074.45</td>\n",
       "      <td>2037.69</td>\n",
       "      <td>11215832</td>\n",
       "      <td>2.285439e+15</td>\n",
       "      <td>359214</td>\n",
       "      <td>3369489</td>\n",
       "      <td>0.3004</td>\n",
       "    </tr>\n",
       "  </tbody>\n",
       "</table>\n",
       "</div>"
      ],
      "text/plain": [
       "        Date Symbol Series  Prev Close     Open     High      Low     Last  \\\n",
       "0 2015-01-01   INFY     EQ     1972.55  1968.95  1982.00  1956.90  1971.00   \n",
       "1 2015-01-02   INFY     EQ     1974.40  1972.00  2019.05  1972.00  2017.95   \n",
       "2 2015-01-03   INFY     EQ     1974.40  1972.00  2019.05  1972.00  2017.95   \n",
       "3 2015-01-04   INFY     EQ     1974.40  1972.00  2019.05  1972.00  2017.95   \n",
       "4 2015-01-05   INFY     EQ     2013.20  2009.90  2030.00  1977.50  1996.00   \n",
       "5 2015-01-06   INFY     EQ     1995.90  1980.00  1985.00  1934.10  1965.10   \n",
       "6 2015-01-07   INFY     EQ     1954.20  1965.00  1974.75  1950.00  1966.05   \n",
       "7 2015-01-08   INFY     EQ     1963.55  1985.60  1997.00  1950.00  1979.25   \n",
       "8 2015-01-09   INFY     EQ     1973.45  1980.10  2109.00  1913.05  2075.30   \n",
       "9 2015-01-10   INFY     EQ     1973.45  1980.10  2109.00  1913.05  2075.30   \n",
       "\n",
       "     Close     VWAP    Volume      Turnover  Trades  Deliverable Volume  \\\n",
       "0  1974.40  1971.34    500691  9.870306e+13   14908              258080   \n",
       "1  2013.20  2003.25   1694580  3.394669e+14   54166             1249104   \n",
       "2  2013.20  2003.25   1694580  3.394669e+14   54166             1249104   \n",
       "3  2013.20  2003.25   1694580  3.394669e+14   54166             1249104   \n",
       "4  1995.90  2004.59   2484256  4.979911e+14   82694             1830962   \n",
       "5  1954.20  1954.82   2416829  4.724458e+14  108209             1772070   \n",
       "6  1963.55  1962.59   1812479  3.557162e+14   62463             1317720   \n",
       "7  1973.45  1972.78   3391230  6.690160e+14   92752             2686012   \n",
       "8  2074.45  2037.69  11215832  2.285439e+15  359214             3369489   \n",
       "9  2074.45  2037.69  11215832  2.285439e+15  359214             3369489   \n",
       "\n",
       "   %Deliverble  \n",
       "0       0.5154  \n",
       "1       0.7371  \n",
       "2       0.7371  \n",
       "3       0.7371  \n",
       "4       0.7370  \n",
       "5       0.7332  \n",
       "6       0.7270  \n",
       "7       0.7920  \n",
       "8       0.3004  \n",
       "9       0.3004  "
      ]
     },
     "execution_count": 125,
     "metadata": {},
     "output_type": "execute_result"
    }
   ],
   "source": [
    "infy_data.head(10)"
   ]
  },
  {
   "cell_type": "code",
   "execution_count": null,
   "metadata": {},
   "outputs": [],
   "source": []
  },
  {
   "cell_type": "code",
   "execution_count": 126,
   "metadata": {},
   "outputs": [],
   "source": [
    "X_infy = infy_data.loc[:,'Prev Close':'%Deliverble']\n",
    "X_infy = X_infy.drop('Open',axis =1)\n",
    "X_infy = X_infy.values"
   ]
  },
  {
   "cell_type": "code",
   "execution_count": 127,
   "metadata": {},
   "outputs": [],
   "source": [
    "X_infi=X_infy.astype('int')"
   ]
  },
  {
   "cell_type": "code",
   "execution_count": 129,
   "metadata": {},
   "outputs": [
    {
     "data": {
      "text/plain": [
       "array([1968, 1972, 1972, 1972, 2009, 1980, 1965, 1985, 1980, 1980, 1980,\n",
       "       2092, 2107, 2098, 2135, 2148, 2148, 2148, 2120, 2107, 2131, 2174,\n",
       "       2200, 2200, 2200, 2200, 2221, 2150, 2145, 2161, 2161, 2161, 2141,\n",
       "       2136, 2139, 2150, 2205, 2205, 2205, 2200, 2243, 2280, 2283, 2299,\n",
       "       2299, 2299, 2280, 2280, 2290, 2294, 2328, 2328, 2328, 2300, 2279,\n",
       "       2288, 2307, 2274, 2274, 2274, 2303, 2290, 2300, 2267, 2267, 2267,\n",
       "       2267, 2259, 2198, 2194, 2179, 2225, 2225, 2225, 2210, 2266, 2254,\n",
       "       2234, 2241, 2241, 2241, 2253, 2234, 2222, 2208, 2164, 2164, 2164,\n",
       "       2205, 2245, 2198, 2198, 2198, 2198, 2198, 2179, 2175, 2182, 2211,\n",
       "       2210, 2210, 2210, 2238, 2238, 2236, 2222, 2180, 2180, 2180, 2176,\n",
       "       2148, 2151, 2148, 2135, 2135, 2135, 2000, 1982, 1960, 1960, 1960,\n",
       "       1960, 1960, 1959, 2000, 1975, 1922, 1958, 1958, 1958, 1965, 1993,\n",
       "       1951, 1960, 1935, 1935, 1935, 1970, 1987, 2040, 2048, 2044, 2044,\n",
       "       2044, 2050, 2020, 2007, 1975, 2004, 2004, 2004, 2032, 2048, 2018,\n",
       "       2030, 2030, 2030, 2030, 2020, 2003, 1990, 2035, 2005, 2005, 2005,\n",
       "        976,  994, 1011, 1005, 1010, 1010, 1010, 1004, 1025, 1015,  999,\n",
       "        999,  999,  999,  987,  990,  989,  999,  988,  988,  988,  985,\n",
       "        985,  979,  957,  948,  948,  948,  941,  955,  970,  987,  991,\n",
       "        991,  991, 1001, 1035, 1105, 1103, 1095, 1095, 1095, 1086, 1068,\n",
       "       1074, 1090, 1078, 1078, 1078, 1078, 1078, 1062, 1094, 1079, 1079,\n",
       "       1079, 1098, 1098, 1115, 1147, 1165, 1165, 1165, 1150, 1150, 1170,\n",
       "       1159, 1140, 1140, 1140, 1109, 1100, 1089, 1088, 1101, 1101, 1101,\n",
       "       1134, 1090, 1098, 1110, 1103, 1103, 1103, 1084, 1062, 1087, 1084,\n",
       "       1091, 1091, 1091, 1099, 1099, 1108, 1108, 1111, 1111, 1111, 1100,\n",
       "       1115, 1107, 1113, 1113, 1113, 1113, 1139, 1102, 1134, 1169, 1169,\n",
       "       1169, 1169, 1173, 1187, 1156, 1136, 1136, 1136, 1136, 1199, 1107,\n",
       "       1091, 1099, 1099, 1099, 1099, 1102, 1113, 1125, 1125, 1141, 1141,\n",
       "       1141, 1154, 1150, 1144, 1153, 1145, 1145, 1145, 1130, 1133, 1150,\n",
       "       1142, 1123, 1123, 1123, 1120, 1127, 1118, 1118, 1099, 1099, 1099,\n",
       "       1083, 1080, 1041, 1030, 1048, 1048, 1048, 1050, 1050, 1050, 1040,\n",
       "       1058, 1058, 1058, 1070, 1088, 1079, 1061, 1049, 1049, 1049, 1055,\n",
       "       1045, 1043, 1036, 1054, 1054, 1054, 1049, 1073, 1083, 1100, 1103,\n",
       "       1103, 1103, 1077, 1097, 1095, 1102, 1102, 1102, 1102, 1090, 1101,\n",
       "       1101, 1090])"
      ]
     },
     "execution_count": 129,
     "metadata": {},
     "output_type": "execute_result"
    }
   ],
   "source": [
    "Y_infy = infy_data['Open'].values\n",
    "Y_infy = Y_infy.astype('int')\n",
    "Y_infy"
   ]
  },
  {
   "cell_type": "code",
   "execution_count": 130,
   "metadata": {},
   "outputs": [],
   "source": [
    "X_train,X_test,y_train,y_test = train_test_split(X_infy,Y_infy,test_size = 0.25,random_state = 0)"
   ]
  },
  {
   "cell_type": "code",
   "execution_count": 131,
   "metadata": {},
   "outputs": [],
   "source": [
    "scaler = StandardScaler()\n",
    "X_train = scaler.fit_transform(X_train)\n",
    "X_test=scaler.transform(X_test)"
   ]
  },
  {
   "cell_type": "code",
   "execution_count": 132,
   "metadata": {},
   "outputs": [],
   "source": [
    "import random\n",
    "random.seed(1)\n",
    "from sklearn.svm import SVC\n",
    "classifier=SVC(kernel = 'rbf',random_state = 0)"
   ]
  },
  {
   "cell_type": "code",
   "execution_count": 133,
   "metadata": {},
   "outputs": [
    {
     "data": {
      "text/plain": [
       "SVC(C=1.0, cache_size=200, class_weight=None, coef0=0.0,\n",
       "  decision_function_shape='ovr', degree=3, gamma='auto_deprecated',\n",
       "  kernel='rbf', max_iter=-1, probability=False, random_state=0,\n",
       "  shrinking=True, tol=0.001, verbose=False)"
      ]
     },
     "execution_count": 133,
     "metadata": {},
     "output_type": "execute_result"
    }
   ],
   "source": [
    "classifier.fit(X_train,y_train)"
   ]
  },
  {
   "cell_type": "code",
   "execution_count": 134,
   "metadata": {},
   "outputs": [],
   "source": [
    "y_pred = classifier.predict(X_test)\n"
   ]
  },
  {
   "cell_type": "code",
   "execution_count": 135,
   "metadata": {},
   "outputs": [
    {
     "data": {
      "text/plain": [
       "70.3466571623204"
      ]
     },
     "execution_count": 135,
     "metadata": {},
     "output_type": "execute_result"
    }
   ],
   "source": [
    "from sklearn.metrics import mean_squared_error\n",
    "from math import sqrt\n",
    "rms = sqrt(mean_squared_error(y_test, y_pred))\n",
    "rms"
   ]
  },
  {
   "cell_type": "markdown",
   "metadata": {},
   "source": [
    "### lets use one more model"
   ]
  },
  {
   "cell_type": "code",
   "execution_count": 136,
   "metadata": {},
   "outputs": [
    {
     "data": {
      "text/plain": [
       "DecisionTreeRegressor(criterion='mse', max_depth=None, max_features=None,\n",
       "           max_leaf_nodes=None, min_impurity_decrease=0.0,\n",
       "           min_impurity_split=None, min_samples_leaf=1,\n",
       "           min_samples_split=2, min_weight_fraction_leaf=0.0,\n",
       "           presort=False, random_state=42, splitter='best')"
      ]
     },
     "execution_count": 136,
     "metadata": {},
     "output_type": "execute_result"
    }
   ],
   "source": [
    "classifier = DecisionTreeRegressor(random_state = 42)\n",
    "classifier.fit(X_train,y_train)\n"
   ]
  },
  {
   "cell_type": "code",
   "execution_count": 138,
   "metadata": {},
   "outputs": [],
   "source": [
    "y_pred=classifier.predict(X_test)"
   ]
  },
  {
   "cell_type": "code",
   "execution_count": 139,
   "metadata": {},
   "outputs": [
    {
     "data": {
      "text/plain": [
       "8.800938685113676"
      ]
     },
     "execution_count": 139,
     "metadata": {},
     "output_type": "execute_result"
    }
   ],
   "source": [
    "from sklearn.metrics import mean_squared_error\n",
    "from math import sqrt\n",
    "rms = sqrt(mean_squared_error(y_test, y_pred))\n",
    "rms"
   ]
  },
  {
   "cell_type": "code",
   "execution_count": 142,
   "metadata": {},
   "outputs": [
    {
     "data": {
      "text/plain": [
       "array([[1, 0, 0, ..., 0, 0, 0],\n",
       "       [0, 1, 0, ..., 0, 0, 0],\n",
       "       [0, 0, 1, ..., 0, 0, 0],\n",
       "       ...,\n",
       "       [0, 0, 0, ..., 0, 0, 0],\n",
       "       [0, 0, 0, ..., 0, 0, 0],\n",
       "       [0, 0, 0, ..., 0, 0, 1]], dtype=int64)"
      ]
     },
     "execution_count": 142,
     "metadata": {},
     "output_type": "execute_result"
    }
   ],
   "source": [
    "from sklearn.metrics import accuracy_score\n",
    "accuracy_score(y_test,y_pred)"
   ]
  }
 ],
 "metadata": {
  "kernelspec": {
   "display_name": "Python 3",
   "language": "python",
   "name": "python3"
  },
  "language_info": {
   "codemirror_mode": {
    "name": "ipython",
    "version": 3
   },
   "file_extension": ".py",
   "mimetype": "text/x-python",
   "name": "python",
   "nbconvert_exporter": "python",
   "pygments_lexer": "ipython3",
   "version": "3.6.4"
  }
 },
 "nbformat": 4,
 "nbformat_minor": 2
}
